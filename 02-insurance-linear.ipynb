{
 "cells": [
  {
   "cell_type": "markdown",
   "metadata": {
    "_cell_guid": "b1076dfc-b9ad-4769-8c92-a6c4dae69d19",
    "_uuid": "8f2839f25d086af736a60e9eeb907d3b93b6e0e5",
    "id": "GZeX6AulmqR3"
   },
   "source": [
    "# Insurance cost prediction using linear regression\n",
    "\n",
    "In this project we're going to use information like a person's age, sex, BMI, no. of children and smoking habit to predict the price of yearly medical bills. This kind of model is useful for insurance companies to determine the yearly insurance premium for a person. The dataset for this problem is taken from [Kaggle](https://www.kaggle.com/mirichoi0218/insurance).\n",
    "\n",
    "\n",
    "We will create a model with the following steps:\n",
    "1. Download and explore the dataset\n",
    "2. Prepare the dataset for training\n",
    "3. Create a linear regression model\n",
    "4. Train the model to fit the data\n",
    "5. Make predictions using the trained model"
   ]
  },
  {
   "cell_type": "code",
   "execution_count": 4,
   "metadata": {
    "executionInfo": {
     "elapsed": 9,
     "status": "ok",
     "timestamp": 1672646722592,
     "user": {
      "displayName": "As-shanowi As-shanowi",
      "userId": "10489360641065378725"
     },
     "user_tz": -60
    },
    "id": "3_jE1S4kmqR8"
   },
   "outputs": [],
   "source": [
    "# Uncomment and run the appropriate command for your operating system, if required\n",
    "\n",
    "# Linux / Binder\n",
    "# !pip install numpy matplotlib pandas torch==1.7.0+cpu torchvision==0.8.1+cpu torchaudio==0.7.0 -f https://download.pytorch.org/whl/torch_stable.html\n",
    "\n",
    "# Windows\n",
    "# !pip install numpy matplotlib pandas torch==1.7.0+cpu torchvision==0.8.1+cpu torchaudio==0.7.0 -f https://download.pytorch.org/whl/torch_stable.html\n",
    "\n",
    "# MacOS\n",
    "# !pip install numpy matplotlib pandas torch torchvision torchaudio"
   ]
  },
  {
   "cell_type": "code",
   "execution_count": 5,
   "metadata": {
    "executionInfo": {
     "elapsed": 5,
     "status": "ok",
     "timestamp": 1672646723021,
     "user": {
      "displayName": "As-shanowi As-shanowi",
      "userId": "10489360641065378725"
     },
     "user_tz": -60
    },
    "id": "dbWUmOV0mqSB"
   },
   "outputs": [],
   "source": [
    "import torch\n",
    "import torchvision\n",
    "import torch.nn as nn\n",
    "import pandas as pd\n",
    "import matplotlib.pyplot as plt\n",
    "import torch.nn.functional as F\n",
    "from torchvision.datasets.utils import download_url\n",
    "from torch.utils.data import DataLoader, TensorDataset, random_split"
   ]
  },
  {
   "cell_type": "markdown",
   "metadata": {
    "id": "WV6VOER_mqSE"
   },
   "source": [
    "## Step 1: Download and explore the data\n",
    "\n",
    "Let us begin by downloading the data. We'll use the `download_url` function from PyTorch to get the data as a CSV (comma-separated values) file. "
   ]
  },
  {
   "cell_type": "code",
   "execution_count": null,
   "metadata": {
    "_cell_guid": "79c7e3d0-c299-4dcb-8224-4455121ee9b0",
    "_uuid": "d629ff2d2480ee46fbb7e2d37f6b5fab8052498a",
    "id": "NBL8b1-PmqSF"
   },
   "outputs": [],
   "source": [
    "DATASET_URL = \"https://hub.jovian.ml/wp-content/uploads/2020/05/insurance.csv\"\n",
    "DATA_FILENAME = \"insurance.csv\"\n",
    "download_url(DATASET_URL, '.')"
   ]
  },
  {
   "cell_type": "markdown",
   "metadata": {
    "id": "yXSIIGu5mqSL"
   },
   "source": [
    "To load the dataset into memory, we'll use the `read_csv` function from the `pandas` library. The data will be loaded as a Pandas dataframe. See this short tutorial to learn more: https://data36.com/pandas-tutorial-1-basics-reading-data-files-dataframes-data-selection/"
   ]
  },
  {
   "cell_type": "code",
   "execution_count": null,
   "metadata": {
    "executionInfo": {
     "elapsed": 20,
     "status": "aborted",
     "timestamp": 1672646857851,
     "user": {
      "displayName": "As-shanowi As-shanowi",
      "userId": "10489360641065378725"
     },
     "user_tz": -60
    },
    "id": "1sVe1Cg4mqSM"
   },
   "outputs": [],
   "source": [
    "dataframe_raw = pd.read_csv(DATA_FILENAME)\n",
    "dataframe_raw.head()"
   ]
  },
  {
   "cell_type": "markdown",
   "metadata": {
    "id": "ufcuTl6vmqSO"
   },
   "source": [
    "We're going to do a slight customization of the data, so that you every participant receives a slightly different version of the dataset. Fill in your name below as a string (enter at least 5 characters)"
   ]
  },
  {
   "cell_type": "markdown",
   "metadata": {
    "id": "wqx0kkq2mqSQ"
   },
   "source": [
    "The `customize_dataset` function will customize the dataset slightly using your name as a source of random numbers."
   ]
  },
  {
   "cell_type": "code",
   "execution_count": null,
   "metadata": {
    "id": "-cCkDjBRmqSR"
   },
   "outputs": [],
   "source": [
    "def customize_dataset(dataframe_raw, rand_str):\n",
    "    dataframe = dataframe_raw.copy(deep=True)\n",
    "    # drop some rows\n",
    "    dataframe = dataframe.sample(int(0.95*len(dataframe)), random_state=int(ord(rand_str[0])))\n",
    "    # scale input\n",
    "    dataframe.bmi = dataframe.bmi * ord(rand_str[1])/100.\n",
    "    # scale target\n",
    "    dataframe.charges = dataframe.charges * ord(rand_str[2])/100.\n",
    "    # drop column\n",
    "    if ord(rand_str[3]) % 2 == 1:\n",
    "        dataframe = dataframe.drop(['region'], axis=1)\n",
    "    return dataframe"
   ]
  },
  {
   "cell_type": "code",
   "execution_count": null,
   "metadata": {
    "colab": {
     "base_uri": "https://localhost:8080/",
     "height": 204
    },
    "executionInfo": {
     "elapsed": 908,
     "status": "ok",
     "timestamp": 1608111923231,
     "user": {
      "displayName": "Isah Abdul-Azeez",
      "photoUrl": "",
      "userId": "00734320458348987831"
     },
     "user_tz": -180
    },
    "id": "vOlnNwxxmqST",
    "outputId": "56e4c0e7-6049-4d32-e579-7fe6af0ec01e"
   },
   "outputs": [
    {
     "data": {
      "text/html": [
       "<div>\n",
       "<style scoped>\n",
       "    .dataframe tbody tr th:only-of-type {\n",
       "        vertical-align: middle;\n",
       "    }\n",
       "\n",
       "    .dataframe tbody tr th {\n",
       "        vertical-align: top;\n",
       "    }\n",
       "\n",
       "    .dataframe thead th {\n",
       "        text-align: right;\n",
       "    }\n",
       "</style>\n",
       "<table border=\"1\" class=\"dataframe\">\n",
       "  <thead>\n",
       "    <tr style=\"text-align: right;\">\n",
       "      <th></th>\n",
       "      <th>age</th>\n",
       "      <th>sex</th>\n",
       "      <th>bmi</th>\n",
       "      <th>children</th>\n",
       "      <th>smoker</th>\n",
       "      <th>region</th>\n",
       "      <th>charges</th>\n",
       "    </tr>\n",
       "  </thead>\n",
       "  <tbody>\n",
       "    <tr>\n",
       "      <th>803</th>\n",
       "      <td>18</td>\n",
       "      <td>female</td>\n",
       "      <td>48.57600</td>\n",
       "      <td>0</td>\n",
       "      <td>yes</td>\n",
       "      <td>southeast</td>\n",
       "      <td>37628.905032</td>\n",
       "    </tr>\n",
       "    <tr>\n",
       "      <th>263</th>\n",
       "      <td>19</td>\n",
       "      <td>male</td>\n",
       "      <td>42.49825</td>\n",
       "      <td>0</td>\n",
       "      <td>yes</td>\n",
       "      <td>northwest</td>\n",
       "      <td>35132.823287</td>\n",
       "    </tr>\n",
       "    <tr>\n",
       "      <th>196</th>\n",
       "      <td>39</td>\n",
       "      <td>female</td>\n",
       "      <td>37.72000</td>\n",
       "      <td>0</td>\n",
       "      <td>no</td>\n",
       "      <td>southwest</td>\n",
       "      <td>5480.223550</td>\n",
       "    </tr>\n",
       "    <tr>\n",
       "      <th>694</th>\n",
       "      <td>27</td>\n",
       "      <td>female</td>\n",
       "      <td>40.02000</td>\n",
       "      <td>1</td>\n",
       "      <td>no</td>\n",
       "      <td>southwest</td>\n",
       "      <td>3470.659030</td>\n",
       "    </tr>\n",
       "    <tr>\n",
       "      <th>37</th>\n",
       "      <td>26</td>\n",
       "      <td>male</td>\n",
       "      <td>23.92000</td>\n",
       "      <td>0</td>\n",
       "      <td>no</td>\n",
       "      <td>southwest</td>\n",
       "      <td>2233.231000</td>\n",
       "    </tr>\n",
       "  </tbody>\n",
       "</table>\n",
       "</div>"
      ],
      "text/plain": [
       "     age     sex       bmi  children smoker     region       charges\n",
       "803   18  female  48.57600         0    yes  southeast  37628.905032\n",
       "263   19    male  42.49825         0    yes  northwest  35132.823287\n",
       "196   39  female  37.72000         0     no  southwest   5480.223550\n",
       "694   27  female  40.02000         1     no  southwest   3470.659030\n",
       "37    26    male  23.92000         0     no  southwest   2233.231000"
      ]
     },
     "execution_count": 8,
     "metadata": {
      "tags": []
     },
     "output_type": "execute_result"
    }
   ],
   "source": [
    "dataframe = customize_dataset(dataframe_raw, your_name)\n",
    "dataframe.head()"
   ]
  },
  {
   "cell_type": "code",
   "execution_count": null,
   "metadata": {
    "colab": {
     "base_uri": "https://localhost:8080/"
    },
    "executionInfo": {
     "elapsed": 1945,
     "status": "ok",
     "timestamp": 1608111929591,
     "user": {
      "displayName": "Isah Abdul-Azeez",
      "photoUrl": "",
      "userId": "00734320458348987831"
     },
     "user_tz": -180
    },
    "id": "0apNnjWZmqSU",
    "outputId": "3a9454dc-7953-4692-efe9-701dd7587305"
   },
   "outputs": [
    {
     "name": "stdout",
     "output_type": "stream",
     "text": [
      "1271\n"
     ]
    }
   ],
   "source": [
    "num_rows = len (dataframe)\n",
    "print(num_rows)"
   ]
  },
  {
   "cell_type": "code",
   "execution_count": null,
   "metadata": {
    "colab": {
     "base_uri": "https://localhost:8080/"
    },
    "executionInfo": {
     "elapsed": 936,
     "status": "ok",
     "timestamp": 1608111949121,
     "user": {
      "displayName": "Isah Abdul-Azeez",
      "photoUrl": "",
      "userId": "00734320458348987831"
     },
     "user_tz": -180
    },
    "id": "F_R5N6MXmqSW",
    "outputId": "e477926f-2e27-4e31-ef84-ddee910d22e7"
   },
   "outputs": [
    {
     "name": "stdout",
     "output_type": "stream",
     "text": [
      "7\n"
     ]
    }
   ],
   "source": [
    "num_cols = len (dataframe.columns)\n",
    "print(num_cols)"
   ]
  },
  {
   "cell_type": "code",
   "execution_count": null,
   "metadata": {
    "colab": {
     "base_uri": "https://localhost:8080/"
    },
    "executionInfo": {
     "elapsed": 1082,
     "status": "ok",
     "timestamp": 1608111962814,
     "user": {
      "displayName": "Isah Abdul-Azeez",
      "photoUrl": "",
      "userId": "00734320458348987831"
     },
     "user_tz": -180
    },
    "id": "2WDKoHT2mqSZ",
    "outputId": "c8b79377-5f1c-49ac-832d-4e3e00e66e3d"
   },
   "outputs": [
    {
     "name": "stdout",
     "output_type": "stream",
     "text": [
      "['age', 'sex', 'bmi', 'children', 'smoker', 'region']\n"
     ]
    }
   ],
   "source": [
    "# Considering the input columns to be different from target columns\n",
    "\n",
    "input_cols = []\n",
    "for cols in dataframe.columns:\n",
    "  if cols != 'charges':\n",
    "    input_cols.append(cols)\n",
    "\n",
    "print (input_cols)"
   ]
  },
  {
   "cell_type": "code",
   "execution_count": null,
   "metadata": {
    "colab": {
     "base_uri": "https://localhost:8080/"
    },
    "executionInfo": {
     "elapsed": 1031,
     "status": "ok",
     "timestamp": 1608111967505,
     "user": {
      "displayName": "Isah Abdul-Azeez",
      "photoUrl": "",
      "userId": "00734320458348987831"
     },
     "user_tz": -180
    },
    "id": "8VY2HYKGs44O",
    "outputId": "66f9a65d-c175-46e8-99aa-e0b2e3662966"
   },
   "outputs": [
    {
     "name": "stdout",
     "output_type": "stream",
     "text": [
      "<class 'pandas.core.frame.DataFrame'>\n",
      "Int64Index: 1271 entries, 803 to 705\n",
      "Data columns (total 7 columns):\n",
      " #   Column    Non-Null Count  Dtype  \n",
      "---  ------    --------------  -----  \n",
      " 0   age       1271 non-null   int64  \n",
      " 1   sex       1271 non-null   object \n",
      " 2   bmi       1271 non-null   float64\n",
      " 3   children  1271 non-null   int64  \n",
      " 4   smoker    1271 non-null   object \n",
      " 5   region    1271 non-null   object \n",
      " 6   charges   1271 non-null   float64\n",
      "dtypes: float64(2), int64(2), object(3)\n",
      "memory usage: 79.4+ KB\n"
     ]
    }
   ],
   "source": [
    "# View column information first\n",
    "\n",
    "dataframe.info()"
   ]
  },
  {
   "cell_type": "code",
   "execution_count": null,
   "metadata": {
    "id": "H2m0UZjDmqSc"
   },
   "outputs": [],
   "source": [
    "categorical_cols = dataframe[['sex', 'smoker','region']]"
   ]
  },
  {
   "cell_type": "code",
   "execution_count": null,
   "metadata": {
    "colab": {
     "base_uri": "https://localhost:8080/"
    },
    "executionInfo": {
     "elapsed": 998,
     "status": "ok",
     "timestamp": 1608111972064,
     "user": {
      "displayName": "Isah Abdul-Azeez",
      "photoUrl": "",
      "userId": "00734320458348987831"
     },
     "user_tz": -180
    },
    "id": "GyUSxS663e_F",
    "outputId": "be04743d-316b-4cf7-9067-f757a0663516"
   },
   "outputs": [
    {
     "name": "stdout",
     "output_type": "stream",
     "text": [
      "['charges']\n"
     ]
    },
    {
     "data": {
      "text/plain": [
       "1"
      ]
     },
     "execution_count": 17,
     "metadata": {
      "tags": []
     },
     "output_type": "execute_result"
    }
   ],
   "source": [
    "#output_cols = dataframe.columns[-1]\n",
    "output_cols = []\n",
    "for cols in dataframe.columns:\n",
    "  if cols == 'charges':\n",
    "    output_cols.append(cols)\n",
    "\n",
    "print (output_cols)\n",
    "len (output_cols)"
   ]
  },
  {
   "cell_type": "code",
   "execution_count": null,
   "metadata": {
    "colab": {
     "base_uri": "https://localhost:8080/"
    },
    "executionInfo": {
     "elapsed": 1298,
     "status": "ok",
     "timestamp": 1608111976945,
     "user": {
      "displayName": "Isah Abdul-Azeez",
      "photoUrl": "",
      "userId": "00734320458348987831"
     },
     "user_tz": -180
    },
    "id": "fXziaw-lzAKD",
    "outputId": "0a32eeb4-d747-45ab-8391-2220e64da8ad"
   },
   "outputs": [
    {
     "data": {
      "text/plain": [
       "count     1271.000000\n",
       "mean     12935.616222\n",
       "std      11830.191055\n",
       "min       1088.217683\n",
       "25%       4578.041391\n",
       "50%       9025.560843\n",
       "75%      16455.208719\n",
       "max      61857.315170\n",
       "Name: charges, dtype: float64"
      ]
     },
     "execution_count": 18,
     "metadata": {
      "tags": []
     },
     "output_type": "execute_result"
    }
   ],
   "source": [
    "dataframe['charges'].describe()"
   ]
  },
  {
   "cell_type": "markdown",
   "metadata": {
    "id": "vrmkfln0zUhV"
   },
   "source": [
    "#### Minimm value of the charges column =   1088.217683\n",
    "#### Maximum value = 61857.315170\n",
    "#### Average value = 12935.616222\n",
    "\n"
   ]
  },
  {
   "cell_type": "code",
   "execution_count": null,
   "metadata": {
    "colab": {
     "base_uri": "https://localhost:8080/",
     "height": 366
    },
    "executionInfo": {
     "elapsed": 2438,
     "status": "ok",
     "timestamp": 1608111991987,
     "user": {
      "displayName": "Isah Abdul-Azeez",
      "photoUrl": "",
      "userId": "00734320458348987831"
     },
     "user_tz": -180
    },
    "id": "UnJnqzkDmqSf",
    "outputId": "1f034144-90fd-413b-86b6-7e117bd7d466"
   },
   "outputs": [
    {
     "name": "stderr",
     "output_type": "stream",
     "text": [
      "/usr/local/lib/python3.6/dist-packages/seaborn/distributions.py:2551: FutureWarning: `distplot` is a deprecated function and will be removed in a future version. Please adapt your code to use either `displot` (a figure-level function with similar flexibility) or `histplot` (an axes-level function for histograms).\n",
      "  warnings.warn(msg, FutureWarning)\n"
     ]
    },
    {
     "data": {
      "text/plain": [
       "<matplotlib.axes._subplots.AxesSubplot at 0x7fa9933da080>"
      ]
     },
     "execution_count": 19,
     "metadata": {
      "tags": []
     },
     "output_type": "execute_result"
    },
    {
     "data": {
      "image/png": "[encoded data removed]",
      "text/plain": [
       "<Figure size 432x288 with 1 Axes>"
      ]
     },
     "metadata": {
      "needs_background": "light",
      "tags": []
     },
     "output_type": "display_data"
    }
   ],
   "source": [
    "# Plot showing the distribution of charges\n",
    "\n",
    "import seaborn as sns\n",
    "#import matplotlib.pyplot as plt\n",
    "%matplotlib inline\n",
    "\n",
    "plt.title ('Distribution of Charges')\n",
    "sns.distplot(dataframe['charges'], bins=35)"
   ]
  },
  {
   "cell_type": "markdown",
   "metadata": {
    "id": "s9ZO02O_mqSi"
   },
   "source": [
    "## Step 2: Prepare the dataset for training\n",
    "\n",
    "We need to convert the data from the Pandas dataframe into a PyTorch tensors for training. To do this, the first step is to convert it numpy arrays. If you've filled out `input_cols`, `categorial_cols` and `output_cols` correctly, this following function will perform the conversion to numpy arrays."
   ]
  },
  {
   "cell_type": "code",
   "execution_count": null,
   "metadata": {
    "id": "AQzW69_NmqSj"
   },
   "outputs": [],
   "source": [
    "def dataframe_to_arrays(dataframe):\n",
    "    # Make a copy of the original dataframe\n",
    "    dataframe1 = dataframe.copy(deep=True)\n",
    "    # Convert non-numeric categorical columns to numbers\n",
    "    for col in categorical_cols:\n",
    "        dataframe1[col] = dataframe1[col].astype('category').cat.codes\n",
    "    # Extract input & outupts as numpy arrays\n",
    "    inputs_array = dataframe1[input_cols].to_numpy()\n",
    "    targets_array = dataframe1[output_cols].to_numpy()\n",
    "    return inputs_array, targets_array"
   ]
  },
  {
   "cell_type": "markdown",
   "metadata": {
    "id": "bFZfn_5OmqSm"
   },
   "source": [
    "Read through the [Pandas documentation](https://pandas.pydata.org/pandas-docs/stable/user_guide/categorical.html) to understand how we're converting categorical variables into numbers."
   ]
  },
  {
   "cell_type": "code",
   "execution_count": null,
   "metadata": {
    "colab": {
     "base_uri": "https://localhost:8080/"
    },
    "executionInfo": {
     "elapsed": 979,
     "status": "ok",
     "timestamp": 1608112042046,
     "user": {
      "displayName": "Isah Abdul-Azeez",
      "photoUrl": "",
      "userId": "00734320458348987831"
     },
     "user_tz": -180
    },
    "id": "MAT9Eg3MmqSn",
    "outputId": "9bc811a0-61e2-4f1c-d78b-20f61e3d4b04"
   },
   "outputs": [
    {
     "data": {
      "text/plain": [
       "(array([[18.     ,  0.     , 48.576  ,  0.     ,  1.     ,  2.     ],\n",
       "        [19.     ,  1.     , 42.49825,  0.     ,  1.     ,  1.     ],\n",
       "        [39.     ,  0.     , 37.72   ,  0.     ,  0.     ,  3.     ],\n",
       "        ...,\n",
       "        [46.     ,  1.     , 43.8955 ,  2.     ,  0.     ,  2.     ],\n",
       "        [48.     ,  1.     , 40.96875,  4.     ,  0.     ,  0.     ],\n",
       "        [33.     ,  0.     , 37.835  ,  2.     ,  0.     ,  3.     ]]),\n",
       " array([[37628.905032 ],\n",
       "        [35132.8232865],\n",
       "        [ 5480.22355  ],\n",
       "        ...,\n",
       "        [ 8096.749371 ],\n",
       "        [10414.7646275],\n",
       "        [ 5213.78686  ]]))"
      ]
     },
     "execution_count": 24,
     "metadata": {
      "tags": []
     },
     "output_type": "execute_result"
    }
   ],
   "source": [
    "inputs_array, targets_array = dataframe_to_arrays(dataframe)\n",
    "inputs_array, targets_array\n"
   ]
  },
  {
   "cell_type": "code",
   "execution_count": null,
   "metadata": {
    "id": "SFPh-xwTmqSp"
   },
   "outputs": [],
   "source": [
    "inputs = torch.from_numpy(inputs_array).to(torch.float32)\n",
    "targets = torch.from_numpy(targets_array).to(torch.float32)"
   ]
  },
  {
   "cell_type": "code",
   "execution_count": null,
   "metadata": {
    "colab": {
     "base_uri": "https://localhost:8080/"
    },
    "executionInfo": {
     "elapsed": 1293,
     "status": "ok",
     "timestamp": 1608112094772,
     "user": {
      "displayName": "Isah Abdul-Azeez",
      "photoUrl": "",
      "userId": "00734320458348987831"
     },
     "user_tz": -180
    },
    "id": "MX8vMGz5mqSq",
    "outputId": "e493f507-4545-454e-daf8-edb53b5ca522"
   },
   "outputs": [
    {
     "data": {
      "text/plain": [
       "(torch.float32, torch.float32)"
      ]
     },
     "execution_count": 26,
     "metadata": {
      "tags": []
     },
     "output_type": "execute_result"
    }
   ],
   "source": [
    "inputs.dtype, targets.dtype"
   ]
  },
  {
   "cell_type": "markdown",
   "metadata": {
    "id": "2HFZHf-_mqSr"
   },
   "source": [
    "Next, we need to create PyTorch datasets & data loaders for training & validation. We'll start by creating a `TensorDataset`."
   ]
  },
  {
   "cell_type": "code",
   "execution_count": null,
   "metadata": {
    "id": "o2FTHr4nmqSs"
   },
   "outputs": [],
   "source": [
    "dataset = TensorDataset(inputs, targets)"
   ]
  },
  {
   "cell_type": "code",
   "execution_count": null,
   "metadata": {
    "colab": {
     "base_uri": "https://localhost:8080/"
    },
    "executionInfo": {
     "elapsed": 963,
     "status": "ok",
     "timestamp": 1608112145555,
     "user": {
      "displayName": "Isah Abdul-Azeez",
      "photoUrl": "",
      "userId": "00734320458348987831"
     },
     "user_tz": -180
    },
    "id": "F3T940pVmqSt",
    "outputId": "fe6cc40b-8c75-4540-8738-cab906437b76"
   },
   "outputs": [
    {
     "data": {
      "text/plain": [
       "(1081, 190)"
      ]
     },
     "execution_count": 28,
     "metadata": {
      "tags": []
     },
     "output_type": "execute_result"
    }
   ],
   "source": [
    "from torch.utils.data import random_split\n",
    "\n",
    "val_percent = 0.15 # between 0.1 and 0.2\n",
    "val_size = int(num_rows * val_percent)\n",
    "train_size = num_rows - val_size\n",
    "\n",
    "\n",
    "train_ds, val_ds = random_split(dataset, [train_size, val_size])\n",
    "len(train_ds), len(val_ds)\n",
    "\n",
    "# Use the random_split function to split dataset into 2 parts of the desired length"
   ]
  },
  {
   "cell_type": "code",
   "execution_count": null,
   "metadata": {
    "id": "T7OO_HEjmqSv"
   },
   "outputs": [],
   "source": [
    "batch_size = 25"
   ]
  },
  {
   "cell_type": "code",
   "execution_count": null,
   "metadata": {
    "id": "MFVHQusdmqSw"
   },
   "outputs": [],
   "source": [
    "train_loader = DataLoader(train_ds, batch_size, shuffle=True)\n",
    "val_loader = DataLoader(val_ds, batch_size)"
   ]
  },
  {
   "cell_type": "markdown",
   "metadata": {
    "id": "xVYEEBcZmqSx"
   },
   "source": [
    "Let's look at a batch of data to verify everything is working fine so far."
   ]
  },
  {
   "cell_type": "code",
   "execution_count": null,
   "metadata": {
    "colab": {
     "base_uri": "https://localhost:8080/"
    },
    "executionInfo": {
     "elapsed": 1054,
     "status": "ok",
     "timestamp": 1608112173776,
     "user": {
      "displayName": "Isah Abdul-Azeez",
      "photoUrl": "",
      "userId": "00734320458348987831"
     },
     "user_tz": -180
    },
    "id": "qesjnZ0amqSx",
    "outputId": "88a18dd6-2f27-4e7c-94ae-6bda7f2a4b6c"
   },
   "outputs": [
    {
     "name": "stdout",
     "output_type": "stream",
     "text": [
      "inputs: tensor([[40.0000,  1.0000, 28.8420,  0.0000,  0.0000,  2.0000],\n",
      "        [36.0000,  1.0000, 32.2287,  1.0000,  1.0000,  0.0000],\n",
      "        [27.0000,  0.0000, 20.6483,  2.0000,  1.0000,  0.0000],\n",
      "        [55.0000,  1.0000, 37.5705,  1.0000,  0.0000,  2.0000],\n",
      "        [57.0000,  0.0000, 33.0050,  0.0000,  0.0000,  3.0000],\n",
      "        [63.0000,  0.0000, 28.8420,  0.0000,  0.0000,  1.0000],\n",
      "        [53.0000,  1.0000, 47.6905,  0.0000,  0.0000,  2.0000],\n",
      "        [62.0000,  0.0000, 36.4895,  0.0000,  0.0000,  0.0000],\n",
      "        [64.0000,  0.0000, 41.3655,  0.0000,  0.0000,  2.0000],\n",
      "        [47.0000,  0.0000, 52.1180,  1.0000,  0.0000,  2.0000],\n",
      "        [38.0000,  0.0000, 22.9425,  2.0000,  0.0000,  0.0000],\n",
      "        [29.0000,  1.0000, 34.0860,  1.0000,  0.0000,  0.0000],\n",
      "        [59.0000,  0.0000, 31.8780,  3.0000,  0.0000,  2.0000],\n",
      "        [21.0000,  0.0000, 40.1005,  0.0000,  0.0000,  2.0000],\n",
      "        [30.0000,  1.0000, 40.8595,  0.0000,  1.0000,  2.0000],\n",
      "        [51.0000,  0.0000, 29.6700,  1.0000,  0.0000,  3.0000],\n",
      "        [39.0000,  1.0000, 40.5950,  2.0000,  1.0000,  3.0000],\n",
      "        [29.0000,  1.0000, 25.8923,  3.0000,  0.0000,  0.0000],\n",
      "        [28.0000,  0.0000, 19.8835,  0.0000,  0.0000,  0.0000],\n",
      "        [37.0000,  0.0000, 31.9010,  3.0000,  0.0000,  1.0000],\n",
      "        [42.0000,  1.0000, 30.9350,  0.0000,  0.0000,  3.0000],\n",
      "        [32.0000,  0.0000, 34.1953,  0.0000,  0.0000,  1.0000],\n",
      "        [19.0000,  1.0000, 34.7875,  0.0000,  1.0000,  2.0000],\n",
      "        [63.0000,  0.0000, 41.7450,  0.0000,  0.0000,  2.0000],\n",
      "        [33.0000,  1.0000, 26.1108,  0.0000,  0.0000,  1.0000]])\n",
      "targets: tensor([[ 5253.1914],\n",
      "        [20150.4180],\n",
      "        [14556.3818],\n",
      "        [10483.2617],\n",
      "        [11111.6221],\n",
      "        [13826.9697],\n",
      "        [ 9219.1807],\n",
      "        [13622.1729],\n",
      "        [13884.4307],\n",
      "        [ 8312.7656],\n",
      "        [ 6919.8853],\n",
      "        [19669.4727],\n",
      "        [13581.0996],\n",
      "        [ 1959.9358],\n",
      "        [35841.7500],\n",
      "        [ 9565.1943],\n",
      "        [38900.7734],\n",
      "        [ 5053.2915],\n",
      "        [ 3620.6462],\n",
      "        [ 7063.0605],\n",
      "        [ 5790.6313],\n",
      "        [ 4226.3325],\n",
      "        [31571.8906],\n",
      "        [13470.5879],\n",
      "        [21324.9355]])\n"
     ]
    }
   ],
   "source": [
    "for xb, yb in train_loader:\n",
    "    print(\"inputs:\", xb)\n",
    "    print(\"targets:\", yb)\n",
    "    break"
   ]
  },
  {
   "cell_type": "markdown",
   "metadata": {
    "id": "oqEv86rlmqSy"
   },
   "source": [
    "Let's save our work by committing to Jovian."
   ]
  },
  {
   "cell_type": "markdown",
   "metadata": {
    "id": "kf3AK60wmqSz"
   },
   "source": [
    "## Step 3: Create a Linear Regression Model\n",
    "\n",
    "Our model itself is a fairly straightforward linear regression (we'll build more complex models in the next assignment). \n"
   ]
  },
  {
   "cell_type": "code",
   "execution_count": null,
   "metadata": {
    "colab": {
     "base_uri": "https://localhost:8080/"
    },
    "executionInfo": {
     "elapsed": 1550,
     "status": "ok",
     "timestamp": 1608112277628,
     "user": {
      "displayName": "Isah Abdul-Azeez",
      "photoUrl": "",
      "userId": "00734320458348987831"
     },
     "user_tz": -180
    },
    "id": "tk6_8ls2Cz77",
    "outputId": "cd3354c5-2a52-46c6-d769-d6ff3aa82616"
   },
   "outputs": [
    {
     "data": {
      "text/plain": [
       "(6, 1)"
      ]
     },
     "execution_count": 35,
     "metadata": {
      "tags": []
     },
     "output_type": "execute_result"
    }
   ],
   "source": [
    "#len(output_cols), len(input_cols)\n",
    "\n",
    "input_size, output_size"
   ]
  },
  {
   "cell_type": "code",
   "execution_count": null,
   "metadata": {
    "id": "qTn6NpqxmqS0"
   },
   "outputs": [],
   "source": [
    "input_size = len(input_cols)\n",
    "\n",
    "output_size = len(output_cols)"
   ]
  },
  {
   "cell_type": "markdown",
   "metadata": {
    "id": "1GeV4iD5mqS1"
   },
   "source": [
    "**Q: Complete the class definition below by filling out the constructor (`__init__`), `forward`, `training_step` and `validation_step` methods.**\n",
    "\n",
    "Hint: Think carefully about picking a good loss fuction (it's not cross entropy). Maybe try 2-3 of them and see which one works best. See https://pytorch.org/docs/stable/nn.functional.html#loss-functions"
   ]
  },
  {
   "cell_type": "code",
   "execution_count": null,
   "metadata": {
    "id": "8ORgXFiymqS1"
   },
   "outputs": [],
   "source": [
    "class InsuranceModel(nn.Module):\n",
    "    def __init__(self):\n",
    "        super().__init__()\n",
    "        self.linear = nn.Linear(input_size, output_size) # fill this (hint: use input_size & output_size defined above)\n",
    "        \n",
    "    def forward(self, xb):\n",
    "        #xb = xb.reshape(-1,6)\n",
    "        out =  self.linear(xb)                        # fill this\n",
    "        return out\n",
    "    \n",
    "    def training_step(self, batch):\n",
    "        inputs, targets = batch \n",
    "        # Generate predictions\n",
    "        out = self(inputs)          \n",
    "        # Calcuate loss\n",
    "        loss = F.l1_loss (out, targets)                        # fill this\n",
    "        return loss\n",
    "    \n",
    "    def validation_step(self, batch):\n",
    "        inputs, targets = batch\n",
    "        # Generate predictions\n",
    "        out = self(inputs)\n",
    "        # Calculate loss\n",
    "        loss = F.l1_loss(out, targets)                          # fill this    \n",
    "        return {'val_loss': loss.detach()}\n",
    "        \n",
    "    def validation_epoch_end(self, outputs):\n",
    "        batch_losses = [x['val_loss'] for x in outputs]\n",
    "        epoch_loss = torch.stack(batch_losses).mean()   # Combine losses\n",
    "        return {'val_loss': epoch_loss.item()}\n",
    "    \n",
    "    def epoch_end(self, epoch, result, num_epochs):\n",
    "        # Print result every 20th epoch\n",
    "        if (epoch+1) % 20 == 0 or epoch == num_epochs-1:\n",
    "            print(\"Epoch [{}], val_loss: {:.4f}\".format(epoch+1, result['val_loss']))"
   ]
  },
  {
   "cell_type": "markdown",
   "metadata": {
    "id": "43ihOFHxmqS2"
   },
   "source": [
    "Let us create a model using the `InsuranceModel` class. You may need to come back later and re-run the next cell to reinitialize the model, in case the loss becomes `nan` or `infinity`."
   ]
  },
  {
   "cell_type": "code",
   "execution_count": null,
   "metadata": {
    "id": "8CJV5n4CmqS4"
   },
   "outputs": [],
   "source": [
    "model = InsuranceModel()"
   ]
  },
  {
   "cell_type": "markdown",
   "metadata": {
    "id": "hAr0s172mqS5"
   },
   "source": [
    "Let's check out the weights and biases of the model using `model.parameters`."
   ]
  },
  {
   "cell_type": "code",
   "execution_count": null,
   "metadata": {
    "colab": {
     "base_uri": "https://localhost:8080/"
    },
    "executionInfo": {
     "elapsed": 1009,
     "status": "ok",
     "timestamp": 1608112576568,
     "user": {
      "displayName": "Isah Abdul-Azeez",
      "photoUrl": "",
      "userId": "00734320458348987831"
     },
     "user_tz": -180
    },
    "id": "ZdZrAnSx-mce",
    "outputId": "2fcee6f2-e3ca-4cf3-c366-9fd546e72f01"
   },
   "outputs": [
    {
     "data": {
      "text/plain": [
       "Linear(in_features=6, out_features=1, bias=True)"
      ]
     },
     "execution_count": 39,
     "metadata": {
      "tags": []
     },
     "output_type": "execute_result"
    }
   ],
   "source": [
    "model.linear"
   ]
  },
  {
   "cell_type": "code",
   "execution_count": null,
   "metadata": {
    "colab": {
     "base_uri": "https://localhost:8080/"
    },
    "executionInfo": {
     "elapsed": 1763,
     "status": "ok",
     "timestamp": 1608114411121,
     "user": {
      "displayName": "Isah Abdul-Azeez",
      "photoUrl": "",
      "userId": "00734320458348987831"
     },
     "user_tz": -180
    },
    "id": "mt3VauMHmqS5",
    "outputId": "2d29a9b2-99b2-48c6-b5fc-3a06232a21a4"
   },
   "outputs": [
    {
     "data": {
      "text/plain": [
       "[Parameter containing:\n",
       " tensor([[-0.0157, -0.3512,  0.3987,  0.0733,  0.1384, -0.1430]],\n",
       "        requires_grad=True), Parameter containing:\n",
       " tensor([-0.2922], requires_grad=True)]"
      ]
     },
     "execution_count": 54,
     "metadata": {
      "tags": []
     },
     "output_type": "execute_result"
    }
   ],
   "source": [
    "list(model.parameters())"
   ]
  },
  {
   "cell_type": "markdown",
   "metadata": {
    "id": "nEGyAYBPmqS7"
   },
   "source": [
    "One final commit before we train the model."
   ]
  },
  {
   "cell_type": "code",
   "execution_count": null,
   "metadata": {
    "colab": {
     "base_uri": "https://localhost:8080/",
     "height": 86
    },
    "executionInfo": {
     "elapsed": 3167,
     "status": "ok",
     "timestamp": 1608112661334,
     "user": {
      "displayName": "Isah Abdul-Azeez",
      "photoUrl": "",
      "userId": "00734320458348987831"
     },
     "user_tz": -180
    },
    "id": "QNJ4u4VhmqS7",
    "outputId": "14475f1c-cb3b-49fd-b84e-14ce16fddb5b"
   },
   "outputs": [
    {
     "name": "stdout",
     "output_type": "stream",
     "text": [
      "[jovian] Detected Colab notebook...\u001b[0m\n",
      "[jovian] Uploading colab notebook to Jovian...\u001b[0m\n",
      "[jovian] Committed successfully! https://jovian.ai/isahabdul16/02-insurance-linear\u001b[0m\n"
     ]
    },
    {
     "data": {
      "application/vnd.google.colaboratory.intrinsic+json": {
       "type": "string"
      },
      "text/plain": [
       "'https://jovian.ai/isahabdul16/02-insurance-linear'"
      ]
     },
     "execution_count": 40,
     "metadata": {
      "tags": []
     },
     "output_type": "execute_result"
    }
   ],
   "source": [
    "jovian.commit(project=project_name, environment=None)"
   ]
  },
  {
   "cell_type": "markdown",
   "metadata": {
    "id": "0VK2sOOXmqS8"
   },
   "source": [
    "## Step 4: Train the model to fit the data\n",
    "\n",
    "To train our model, we'll use the same `fit` function explained in the lecture. That's the benefit of defining a generic training loop - you can use it for any problem."
   ]
  },
  {
   "cell_type": "code",
   "execution_count": null,
   "metadata": {
    "id": "IS37xe-nmqS9"
   },
   "outputs": [],
   "source": [
    "def evaluate(model, val_loader):\n",
    "    outputs = [model.validation_step(batch) for batch in val_loader]\n",
    "    return model.validation_epoch_end(outputs)\n",
    "\n",
    "def fit(epochs, lr, model, train_loader, val_loader, opt_func=torch.optim.SGD):\n",
    "    history = []\n",
    "    optimizer = opt_func(model.parameters(), lr)\n",
    "    for epoch in range(epochs):\n",
    "        # Training Phase \n",
    "        for batch in train_loader:\n",
    "            loss = model.training_step(batch)\n",
    "            loss.backward()\n",
    "            optimizer.step()\n",
    "            optimizer.zero_grad()\n",
    "        # Validation phase\n",
    "        result = evaluate(model, val_loader)\n",
    "        model.epoch_end(epoch, result, epochs)\n",
    "        history.append(result)\n",
    "    return history"
   ]
  },
  {
   "cell_type": "markdown",
   "metadata": {
    "id": "71ZTxAipmqS-"
   },
   "source": [
    "**Q: Use the `evaluate` function to calculate the loss on the validation set before training.**"
   ]
  },
  {
   "cell_type": "code",
   "execution_count": null,
   "metadata": {
    "colab": {
     "base_uri": "https://localhost:8080/"
    },
    "executionInfo": {
     "elapsed": 1015,
     "status": "ok",
     "timestamp": 1608113237908,
     "user": {
      "displayName": "Isah Abdul-Azeez",
      "photoUrl": "",
      "userId": "00734320458348987831"
     },
     "user_tz": -180
    },
    "id": "Z4GbA8D4nH0h",
    "outputId": "ed1aac5a-50d7-44f6-94e8-2d9bdb3d0822"
   },
   "outputs": [
    {
     "data": {
      "text/plain": [
       "InsuranceModel(\n",
       "  (linear): Linear(in_features=6, out_features=1, bias=True)\n",
       ")"
      ]
     },
     "execution_count": 42,
     "metadata": {
      "tags": []
     },
     "output_type": "execute_result"
    }
   ],
   "source": [
    "# just checking the lengths again\n",
    "len (val_loader)\n",
    "model"
   ]
  },
  {
   "cell_type": "code",
   "execution_count": null,
   "metadata": {
    "colab": {
     "base_uri": "https://localhost:8080/"
    },
    "executionInfo": {
     "elapsed": 1044,
     "status": "ok",
     "timestamp": 1608114424431,
     "user": {
      "displayName": "Isah Abdul-Azeez",
      "photoUrl": "",
      "userId": "00734320458348987831"
     },
     "user_tz": -180
    },
    "id": "8eEUeEYEmqS-",
    "outputId": "d7fe4dbb-e719-4fb9-c602-a701a8abb097"
   },
   "outputs": [
    {
     "name": "stdout",
     "output_type": "stream",
     "text": [
      "{'val_loss': 12541.728515625}\n"
     ]
    }
   ],
   "source": [
    "result = evaluate (model, val_loader) # Use the the evaluate function\n",
    "print(result)"
   ]
  },
  {
   "cell_type": "markdown",
   "metadata": {
    "id": "pEdvcZ18mqS_"
   },
   "source": [
    "\n",
    "We are now ready to train the model. You may need to run the training loop many times, for different number of epochs and with different learning rates, to get a good result. Also, if your loss becomes too large (or `nan`), you may have to re-initialize the model by running the cell `model = InsuranceModel()`. Experiment with this for a while, and try to get to as low a loss as possible."
   ]
  },
  {
   "cell_type": "markdown",
   "metadata": {
    "id": "qSBL7oJ-mqTA"
   },
   "source": [
    "**Q: Train the model 4-5 times with different learning rates & for different number of epochs.**\n",
    "\n",
    "Hint: Vary learning rates by orders of 10 (e.g. `1e-2`, `1e-3`, `1e-4`, `1e-5`, `1e-6`) to figure out what works."
   ]
  },
  {
   "cell_type": "code",
   "execution_count": null,
   "metadata": {
    "colab": {
     "base_uri": "https://localhost:8080/"
    },
    "executionInfo": {
     "elapsed": 1006,
     "status": "ok",
     "timestamp": 1608113306990,
     "user": {
      "displayName": "Isah Abdul-Azeez",
      "photoUrl": "",
      "userId": "00734320458348987831"
     },
     "user_tz": -180
    },
    "id": "jUQSdRjZv734",
    "outputId": "477cfe86-7402-4485-8228-62385eba4d8f"
   },
   "outputs": [
    {
     "data": {
      "text/plain": [
       "[Parameter containing:\n",
       " tensor([[ 0.3581,  0.3557, -0.1386, -0.3482, -0.1884,  0.2954]],\n",
       "        requires_grad=True), Parameter containing:\n",
       " tensor([-0.2713], requires_grad=True)]"
      ]
     },
     "execution_count": 48,
     "metadata": {
      "tags": []
     },
     "output_type": "execute_result"
    }
   ],
   "source": [
    "model = InsuranceModel()\n",
    "list(model.parameters())"
   ]
  },
  {
   "cell_type": "code",
   "execution_count": null,
   "metadata": {
    "colab": {
     "base_uri": "https://localhost:8080/"
    },
    "executionInfo": {
     "elapsed": 3669,
     "status": "ok",
     "timestamp": 1608114444230,
     "user": {
      "displayName": "Isah Abdul-Azeez",
      "photoUrl": "",
      "userId": "00734320458348987831"
     },
     "user_tz": -180
    },
    "id": "s4kn0mFvmqTA",
    "outputId": "a667be0b-36aa-4e8b-f37f-82f7a16939d3"
   },
   "outputs": [
    {
     "name": "stdout",
     "output_type": "stream",
     "text": [
      "Epoch [20], val_loss: 11317.6133\n",
      "Epoch [40], val_loss: 10140.6465\n",
      "Epoch [60], val_loss: 9188.2773\n",
      "Epoch [80], val_loss: 8442.9473\n",
      "Epoch [100], val_loss: 7914.1235\n"
     ]
    }
   ],
   "source": [
    "epochs = 100\n",
    "lr = 0.0005\n",
    "history1 = fit(epochs, lr, model, train_loader, val_loader)"
   ]
  },
  {
   "cell_type": "code",
   "execution_count": null,
   "metadata": {
    "colab": {
     "base_uri": "https://localhost:8080/"
    },
    "executionInfo": {
     "elapsed": 3718,
     "status": "ok",
     "timestamp": 1608114557118,
     "user": {
      "displayName": "Isah Abdul-Azeez",
      "photoUrl": "",
      "userId": "00734320458348987831"
     },
     "user_tz": -180
    },
    "id": "TCKWQNlumqTB",
    "outputId": "c46eb093-6645-4f0d-e318-5074d7799969"
   },
   "outputs": [
    {
     "name": "stdout",
     "output_type": "stream",
     "text": [
      "Epoch [20], val_loss: 7905.2803\n",
      "Epoch [40], val_loss: 7896.4932\n",
      "Epoch [60], val_loss: 7887.7432\n",
      "Epoch [80], val_loss: 7879.0137\n",
      "Epoch [100], val_loss: 7870.5410\n"
     ]
    }
   ],
   "source": [
    "epochs = 100\n",
    "lr = 1e-5\n",
    "history2 = fit(epochs, lr, model, train_loader, val_loader)"
   ]
  },
  {
   "cell_type": "code",
   "execution_count": null,
   "metadata": {
    "colab": {
     "base_uri": "https://localhost:8080/"
    },
    "executionInfo": {
     "elapsed": 3890,
     "status": "ok",
     "timestamp": 1608114633494,
     "user": {
      "displayName": "Isah Abdul-Azeez",
      "photoUrl": "",
      "userId": "00734320458348987831"
     },
     "user_tz": -180
    },
    "id": "OV3HH0lpmqTC",
    "outputId": "60dbb696-ac36-4fdf-b4f5-c419f51d31bb"
   },
   "outputs": [
    {
     "name": "stdout",
     "output_type": "stream",
     "text": [
      "Epoch [20], val_loss: 7869.2939\n",
      "Epoch [40], val_loss: 7868.4619\n",
      "Epoch [60], val_loss: 7867.6353\n",
      "Epoch [80], val_loss: 7866.8013\n",
      "Epoch [100], val_loss: 7865.9761\n"
     ]
    }
   ],
   "source": [
    "epochs = 100\n",
    "lr = 1e-6\n",
    "history3 = fit(epochs, lr, model, train_loader, val_loader)"
   ]
  },
  {
   "cell_type": "code",
   "execution_count": null,
   "metadata": {
    "colab": {
     "base_uri": "https://localhost:8080/"
    },
    "executionInfo": {
     "elapsed": 3704,
     "status": "ok",
     "timestamp": 1608114645849,
     "user": {
      "displayName": "Isah Abdul-Azeez",
      "photoUrl": "",
      "userId": "00734320458348987831"
     },
     "user_tz": -180
    },
    "id": "hZwZpbkxmqTD",
    "outputId": "b125fa36-e43d-4ab6-f803-e9b4b2fb97f5"
   },
   "outputs": [
    {
     "name": "stdout",
     "output_type": "stream",
     "text": [
      "Epoch [20], val_loss: 7865.9482\n",
      "Epoch [40], val_loss: 7865.9219\n",
      "Epoch [60], val_loss: 7865.8945\n",
      "Epoch [80], val_loss: 7865.8672\n",
      "Epoch [100], val_loss: 7865.8398\n"
     ]
    }
   ],
   "source": [
    "epochs = 100\n",
    "lr = 0.0000001\n",
    "history4 = fit(epochs, lr, model, train_loader, val_loader)"
   ]
  },
  {
   "cell_type": "code",
   "execution_count": null,
   "metadata": {
    "colab": {
     "base_uri": "https://localhost:8080/"
    },
    "executionInfo": {
     "elapsed": 3720,
     "status": "ok",
     "timestamp": 1608114665746,
     "user": {
      "displayName": "Isah Abdul-Azeez",
      "photoUrl": "",
      "userId": "00734320458348987831"
     },
     "user_tz": -180
    },
    "id": "A0P0ilRCmqTE",
    "outputId": "6e2a51b2-987d-4ca2-fa37-ea85bcccd129"
   },
   "outputs": [
    {
     "name": "stdout",
     "output_type": "stream",
     "text": [
      "Epoch [20], val_loss: 7865.8398\n",
      "Epoch [40], val_loss: 7865.8398\n",
      "Epoch [60], val_loss: 7865.8398\n",
      "Epoch [80], val_loss: 7865.8398\n",
      "Epoch [100], val_loss: 7865.8398\n"
     ]
    }
   ],
   "source": [
    "epochs = 100\n",
    "lr = 0.00000001\n",
    "history5 = fit(epochs, lr, model, train_loader, val_loader)"
   ]
  },
  {
   "cell_type": "markdown",
   "metadata": {
    "id": "uoTsyTNDmqTE"
   },
   "source": [
    "**Q: What is the final validation loss of your model?**"
   ]
  },
  {
   "cell_type": "code",
   "execution_count": null,
   "metadata": {
    "id": "gTsVQYyKmqTF"
   },
   "outputs": [],
   "source": [
    "val_loss = 7865.8398"
   ]
  },
  {
   "cell_type": "markdown",
   "metadata": {
    "id": "FIB-UPEHmqTG"
   },
   "source": [
    "Let's log the final validation loss to Jovian and commit the notebook"
   ]
  },
  {
   "cell_type": "code",
   "execution_count": null,
   "metadata": {
    "colab": {
     "base_uri": "https://localhost:8080/"
    },
    "executionInfo": {
     "elapsed": 1114,
     "status": "ok",
     "timestamp": 1608114849980,
     "user": {
      "displayName": "Isah Abdul-Azeez",
      "photoUrl": "",
      "userId": "00734320458348987831"
     },
     "user_tz": -180
    },
    "id": "pQAKeICNmqTG",
    "outputId": "8313f326-ac26-4eb9-cba5-35ec4df28e22"
   },
   "outputs": [
    {
     "name": "stdout",
     "output_type": "stream",
     "text": [
      "[jovian] Metrics logged.\u001b[0m\n"
     ]
    }
   ],
   "source": [
    "jovian.log_metrics(val_loss=val_loss)"
   ]
  },
  {
   "cell_type": "code",
   "execution_count": null,
   "metadata": {
    "colab": {
     "base_uri": "https://localhost:8080/",
     "height": 103
    },
    "executionInfo": {
     "elapsed": 4984,
     "status": "ok",
     "timestamp": 1608114855284,
     "user": {
      "displayName": "Isah Abdul-Azeez",
      "photoUrl": "",
      "userId": "00734320458348987831"
     },
     "user_tz": -180
    },
    "id": "LOJv4jEQmqTH",
    "outputId": "311bac6a-b9a7-47cb-e0ff-ecb715b85746"
   },
   "outputs": [
    {
     "name": "stdout",
     "output_type": "stream",
     "text": [
      "[jovian] Detected Colab notebook...\u001b[0m\n",
      "[jovian] Uploading colab notebook to Jovian...\u001b[0m\n",
      "[jovian] Attaching records (metrics, hyperparameters, dataset etc.)\u001b[0m\n",
      "[jovian] Committed successfully! https://jovian.ai/isahabdul16/02-insurance-linear\u001b[0m\n"
     ]
    },
    {
     "data": {
      "application/vnd.google.colaboratory.intrinsic+json": {
       "type": "string"
      },
      "text/plain": [
       "'https://jovian.ai/isahabdul16/02-insurance-linear'"
      ]
     },
     "execution_count": 65,
     "metadata": {
      "tags": []
     },
     "output_type": "execute_result"
    }
   ],
   "source": [
    "jovian.commit(project=project_name, environment=None)"
   ]
  },
  {
   "cell_type": "markdown",
   "metadata": {
    "id": "jHVg5B9rmqTH"
   },
   "source": [
    "Now scroll back up, re-initialize the model, and try different set of values for batch size, number of epochs, learning rate etc. Commit each experiment and use the \"Compare\" and \"View Diff\" options on Jovian to compare the different results."
   ]
  },
  {
   "cell_type": "markdown",
   "metadata": {
    "id": "UT4w_9PmmqTI"
   },
   "source": [
    "## Step 5: Make predictions using the trained model\n",
    "\n",
    "**Q: Complete the following function definition to make predictions on a single input**"
   ]
  },
  {
   "cell_type": "code",
   "execution_count": null,
   "metadata": {
    "id": "_iBM3nArmqTI"
   },
   "outputs": [],
   "source": [
    "def predict_single(input, target, model):\n",
    "    inputs = input.unsqueeze(0)\n",
    "    predictions = model(inputs)              # fill this\n",
    "    prediction = predictions[0].detach()\n",
    "    print(\"Input:\", input)\n",
    "    print(\"Target:\", target)\n",
    "    print(\"Prediction:\", prediction)"
   ]
  },
  {
   "cell_type": "code",
   "execution_count": null,
   "metadata": {
    "colab": {
     "base_uri": "https://localhost:8080/"
    },
    "executionInfo": {
     "elapsed": 936,
     "status": "ok",
     "timestamp": 1608114873352,
     "user": {
      "displayName": "Isah Abdul-Azeez",
      "photoUrl": "",
      "userId": "00734320458348987831"
     },
     "user_tz": -180
    },
    "id": "_-_OT_0QmqTJ",
    "outputId": "23b178ec-f6c3-460e-ed98-053d6739344a"
   },
   "outputs": [
    {
     "name": "stdout",
     "output_type": "stream",
     "text": [
      "Input: tensor([18.0000,  1.0000, 30.0438,  0.0000,  0.0000,  0.0000])\n",
      "Target: tensor([1657.6580])\n",
      "Prediction: tensor([3310.7295])\n"
     ]
    }
   ],
   "source": [
    "input, target = val_ds[0]\n",
    "predict_single(input, target, model)"
   ]
  },
  {
   "cell_type": "code",
   "execution_count": null,
   "metadata": {
    "colab": {
     "base_uri": "https://localhost:8080/"
    },
    "executionInfo": {
     "elapsed": 1299,
     "status": "ok",
     "timestamp": 1608114879702,
     "user": {
      "displayName": "Isah Abdul-Azeez",
      "photoUrl": "",
      "userId": "00734320458348987831"
     },
     "user_tz": -180
    },
    "id": "kpdCsFI6mqTJ",
    "outputId": "f7d3db49-591b-4ea5-d291-893a99a85254"
   },
   "outputs": [
    {
     "name": "stdout",
     "output_type": "stream",
     "text": [
      "Input: tensor([59.0000,  0.0000, 31.6250,  0.0000,  0.0000,  3.0000])\n",
      "Target: tensor([11866.8135])\n",
      "Prediction: tensor([6615.8120])\n"
     ]
    }
   ],
   "source": [
    "input, target = val_ds[10]\n",
    "predict_single(input, target, model)"
   ]
  },
  {
   "cell_type": "code",
   "execution_count": null,
   "metadata": {
    "colab": {
     "base_uri": "https://localhost:8080/"
    },
    "executionInfo": {
     "elapsed": 1345,
     "status": "ok",
     "timestamp": 1608114883533,
     "user": {
      "displayName": "Isah Abdul-Azeez",
      "photoUrl": "",
      "userId": "00734320458348987831"
     },
     "user_tz": -180
    },
    "id": "ndbKRcDzmqTK",
    "outputId": "3565373f-a1f3-48d6-cf00-4c38a54f78d5"
   },
   "outputs": [
    {
     "name": "stdout",
     "output_type": "stream",
     "text": [
      "Input: tensor([54.0000,  1.0000, 24.1615,  2.0000,  0.0000,  2.0000])\n",
      "Target: tensor([10683.3008])\n",
      "Prediction: tensor([5755.4170])\n"
     ]
    }
   ],
   "source": [
    "input, target = val_ds[23]\n",
    "predict_single(input, target, model)"
   ]
  },
  {
   "cell_type": "markdown",
   "metadata": {
    "id": "AyLYwlNXmqTL"
   },
   "source": [
    "Are you happy with your model's predictions? Try to improve them further."
   ]
  },
  {
   "cell_type": "markdown",
   "metadata": {
    "id": "JpoiDvfnmqTM"
   },
   "source": [
    "## (Optional) Step 6: Try another dataset & blog about it\n",
    "\n",
    "While this last step is optional for the submission of your assignment, we highly recommend that you do it. Try to replicate this notebook for a different linear regression or logistic regression problem. This will help solidify your understanding, and give you a chance to differentiate the generic patterns in machine learning from problem-specific details.You can use one of these starer notebooks (just change the dataset):\n",
    "\n",
    "- Linear regression (minimal): https://jovian.ai/aakashns/housing-linear-minimal\n",
    "- Logistic regression (minimal): https://jovian.ai/aakashns/mnist-logistic-minimal\n",
    "\n",
    "Here are some sources to find good datasets:\n",
    "\n",
    "- https://lionbridge.ai/datasets/10-open-datasets-for-linear-regression/\n",
    "- https://www.kaggle.com/rtatman/datasets-for-regression-analysis\n",
    "- https://archive.ics.uci.edu/ml/datasets.php?format=&task=reg&att=&area=&numAtt=&numIns=&type=&sort=nameUp&view=table\n",
    "- https://people.sc.fsu.edu/~jburkardt/datasets/regression/regression.html\n",
    "- https://archive.ics.uci.edu/ml/datasets/wine+quality\n",
    "- https://pytorch.org/docs/stable/torchvision/datasets.html\n",
    "\n",
    "We also recommend that you write a blog about your approach to the problem. Here is a suggested structure for your post (feel free to experiment with it):\n",
    "\n",
    "- Interesting title & subtitle\n",
    "- Overview of what the blog covers (which dataset, linear regression or logistic regression, intro to PyTorch)\n",
    "- Downloading & exploring the data\n",
    "- Preparing the data for training\n",
    "- Creating a model using PyTorch\n",
    "- Training the model to fit the data\n",
    "- Your thoughts on how to experiment with different hyperparmeters to reduce loss\n",
    "- Making predictions using the model\n",
    "\n",
    "As with the previous assignment, you can [embed Juptyer notebook cells & outputs from Jovian](https://medium.com/jovianml/share-and-embed-jupyter-notebooks-online-with-jovian-ml-df709a03064e) into your blog. \n",
    "\n",
    "Don't forget to share your work on the forum: https://jovian.ai/forum/t/linear-regression-and-logistic-regression-notebooks-and-blog-posts/14039"
   ]
  },
  {
   "cell_type": "code",
   "execution_count": null,
   "metadata": {
    "id": "s1cWoICumqTM"
   },
   "outputs": [],
   "source": [
    "jovian.commit(project=project_name, environment=None)\n",
    "#jovian.commit(project=project_name, environment=None) # try again, kaggle fails sometimes"
   ]
  },
  {
   "cell_type": "code",
   "execution_count": null,
   "metadata": {
    "id": "L4E9dW7DmqTO"
   },
   "outputs": [],
   "source": []
  }
 ],
 "metadata": {
  "colab": {
   "provenance": []
  },
  "kernelspec": {
   "display_name": "Python 3 (ipykernel)",
   "language": "python",
   "name": "python3"
  },
  "language_info": {
   "codemirror_mode": {
    "name": "ipython",
    "version": 3
   },
   "file_extension": ".py",
   "mimetype": "text/x-python",
   "name": "python",
   "nbconvert_exporter": "python",
   "pygments_lexer": "ipython3",
   "version": "3.9.7"
  }
 },
 "nbformat": 4,
 "nbformat_minor": 4
}
